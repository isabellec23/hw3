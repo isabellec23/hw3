{
 "cells": [
  {
   "cell_type": "code",
   "execution_count": 59,
   "metadata": {},
   "outputs": [],
   "source": [
    "import numpy as np"
   ]
  },
  {
   "cell_type": "markdown",
   "metadata": {},
   "source": [
    "# Initialize Biases and Weights"
   ]
  },
  {
   "cell_type": "code",
   "execution_count": 2,
   "metadata": {},
   "outputs": [],
   "source": [
    "b1 = 0.6\n",
    "b2 = 0.1\n",
    "b3 = 0.1\n",
    "b4 = 0.2\n",
    "b5 = 0.5\n",
    "b6 = -0.1\n",
    "b7 = 0.6\n",
    "w13 = 0.1\n",
    "w14 = 0\n",
    "w15 = 0.3\n",
    "w23 = -0.2\n",
    "w24 = 0.2\n",
    "w25 = -0.4\n",
    "w36 = -0.4\n",
    "w37 = 0.2\n",
    "w46 = 0.1\n",
    "w47 = -0.1\n",
    "w56  = 0.6\n",
    "w57 = -0.2"
   ]
  },
  {
   "cell_type": "markdown",
   "metadata": {},
   "source": [
    "# Forward Propogation (Input to Hidden)"
   ]
  },
  {
   "cell_type": "code",
   "execution_count": 3,
   "metadata": {},
   "outputs": [],
   "source": [
    "X = [[w13, w23],\n",
    "    [w14, w24],\n",
    "    [w15, w25]]\n",
    "Y = [[b1],\n",
    "    [b2]]\n",
    "Xbias = [[b3],\n",
    "        [b4],\n",
    "        [b5]]"
   ]
  },
  {
   "cell_type": "code",
   "execution_count": 4,
   "metadata": {},
   "outputs": [
    {
     "name": "stdout",
     "output_type": "stream",
     "text": [
      "[0.14]\n",
      "[0.22000000000000003]\n",
      "[0.64]\n"
     ]
    }
   ],
   "source": [
    "result = [[sum(a*b for a,b in zip(X_row,Y_col)) for Y_col in zip(*Y)] for X_row in X]\n",
    "finalresult = [[0],[0],[0]]\n",
    "for i in range(len(result)):    \n",
    "    for j in range(len(result[0])): \n",
    "        finalresult[i][j] = result[i][j] + Xbias[i][j] \n",
    "input2hidarray = np.asarray(finalresult)\n",
    "for x in finalresult: \n",
    "    print(x) "
   ]
  },
  {
   "cell_type": "code",
   "execution_count": 5,
   "metadata": {},
   "outputs": [],
   "source": [
    "def Oj(x):\n",
    "    return 1 / (1+np.exp(-x))"
   ]
  },
  {
   "cell_type": "code",
   "execution_count": 6,
   "metadata": {},
   "outputs": [
    {
     "data": {
      "text/plain": [
       "[[0.5349429451582145], [0.5547792351072148], [0.6547534606063192]]"
      ]
     },
     "execution_count": 6,
     "metadata": {},
     "output_type": "execute_result"
    }
   ],
   "source": [
    "output1 = Oj(input2hidarray)\n",
    "input2hidout = output1.tolist()\n",
    "input2hidout"
   ]
  },
  {
   "cell_type": "markdown",
   "metadata": {},
   "source": [
    "# Hidden to Output"
   ]
  },
  {
   "cell_type": "code",
   "execution_count": 7,
   "metadata": {},
   "outputs": [],
   "source": [
    "X = [[w36, w46, w56],\n",
    "    [w37, w47, w57]]\n",
    "\n",
    "Y = input2hidout\n",
    "\n",
    "Xbias = [[b6],\n",
    "        [b7],]"
   ]
  },
  {
   "cell_type": "code",
   "execution_count": 8,
   "metadata": {},
   "outputs": [
    {
     "name": "stdout",
     "output_type": "stream",
     "text": [
      "[0.1343528218112272]\n",
      "[0.5205599733996575]\n"
     ]
    }
   ],
   "source": [
    "result = [[sum(a*b for a,b in zip(X_row,Y_col)) for Y_col in zip(*Y)] for X_row in X]\n",
    "finalresult = [[0],[0]]\n",
    "for i in range(len(result)):    \n",
    "    for j in range(len(result[0])): \n",
    "        finalresult[i][j] = result[i][j] + Xbias[i][j] \n",
    "hid2outarray = np.asarray(finalresult)\n",
    "for x in finalresult: \n",
    "    print(x) "
   ]
  },
  {
   "cell_type": "code",
   "execution_count": 9,
   "metadata": {},
   "outputs": [
    {
     "data": {
      "text/plain": [
       "[[0.5335377723216794], [0.6272786974969992]]"
      ]
     },
     "execution_count": 9,
     "metadata": {},
     "output_type": "execute_result"
    }
   ],
   "source": [
    "output2 = Oj(hid2outarray)\n",
    "hid2outfinal = output2.tolist()\n",
    "hid2outfinal"
   ]
  },
  {
   "cell_type": "markdown",
   "metadata": {},
   "source": [
    "# I just realized I typed the numbers for node 7 into the calculator wrong when doing this by hand in part 1 oops"
   ]
  },
  {
   "cell_type": "code",
   "execution_count": 10,
   "metadata": {},
   "outputs": [
    {
     "data": {
      "text/plain": [
       "[[0.5349429451582145],\n",
       " [0.5547792351072148],\n",
       " [0.6547534606063192],\n",
       " [0.5335377723216794],\n",
       " [0.6272786974969992]]"
      ]
     },
     "execution_count": 10,
     "metadata": {},
     "output_type": "execute_result"
    }
   ],
   "source": [
    "finaloutputs = input2hidout + hid2outfinal\n",
    "outputsforerror = np.asarray(finaloutputs)\n",
    "finaloutputs"
   ]
  },
  {
   "cell_type": "markdown",
   "metadata": {},
   "source": [
    "# Now we calculate error"
   ]
  },
  {
   "cell_type": "code",
   "execution_count": 11,
   "metadata": {},
   "outputs": [
    {
     "data": {
      "text/plain": [
       "[0.6547534606063192]"
      ]
     },
     "execution_count": 11,
     "metadata": {},
     "output_type": "execute_result"
    }
   ],
   "source": [
    "finaloutputs[2]"
   ]
  },
  {
   "cell_type": "code",
   "execution_count": 12,
   "metadata": {},
   "outputs": [],
   "source": [
    "def outerror(outputs, x, c):\n",
    "    return outputs[x]*(1 - outputs[x])*(c - outputs[x])"
   ]
  },
  {
   "cell_type": "code",
   "execution_count": 31,
   "metadata": {},
   "outputs": [
    {
     "data": {
      "text/plain": [
       "[0.11609088852183586]"
      ]
     },
     "execution_count": 31,
     "metadata": {},
     "output_type": "execute_result"
    }
   ],
   "source": [
    "e7 = outerror(outputsforerror, 4, 0)\n",
    "e6 = outerror(outputsforerror, 3, 1)"
   ]
  },
  {
   "cell_type": "code",
   "execution_count": 19,
   "metadata": {},
   "outputs": [],
   "source": [
    "def hiderror(outputs, x, w1, w2):\n",
    "    return outputs[x]*(1 - outputs[x])*((e6)*(w1)+(e7)*(w2))"
   ]
  },
  {
   "cell_type": "code",
   "execution_count": 20,
   "metadata": {},
   "outputs": [],
   "source": [
    "e3 = hiderror(outputsforerror, 0, w36, w37)\n",
    "e4 = hiderror(outputsforerror, 1, w46, w47)\n",
    "e5 = hiderror(outputsforerror, 2, w56, w57)"
   ]
  },
  {
   "cell_type": "code",
   "execution_count": 43,
   "metadata": {},
   "outputs": [],
   "source": [
    "errorvals = [e3.tolist(), e4.tolist(), e5.tolist(), e6.tolist(), e7.tolist()]"
   ]
  },
  {
   "cell_type": "code",
   "execution_count": 44,
   "metadata": {},
   "outputs": [
    {
     "data": {
      "text/plain": [
       "[[-0.018849467653782065],\n",
       " [0.006489873578982906],\n",
       " [0.022375943550106376],\n",
       " [0.11609088852183586],\n",
       " [-0.14665784300540477]]"
      ]
     },
     "execution_count": 44,
     "metadata": {},
     "output_type": "execute_result"
    }
   ],
   "source": [
    "errorvals"
   ]
  },
  {
   "cell_type": "markdown",
   "metadata": {},
   "source": [
    "# Now getting new values"
   ]
  },
  {
   "cell_type": "code",
   "execution_count": 50,
   "metadata": {},
   "outputs": [],
   "source": [
    "def newnodes(b, e):\n",
    "    return b + (0.1)*e"
   ]
  },
  {
   "cell_type": "code",
   "execution_count": 52,
   "metadata": {},
   "outputs": [
    {
     "data": {
      "text/plain": [
       "[[0.0981150532346218],\n",
       " [0.2006489873578983],\n",
       " [0.5022375943550106],\n",
       " [-0.08839091114781641],\n",
       " [0.5853342156994595]]"
      ]
     },
     "execution_count": 52,
     "metadata": {},
     "output_type": "execute_result"
    }
   ],
   "source": [
    "n3 = newnodes(b3, e3)\n",
    "n4 = newnodes(b4, e4)\n",
    "n5 = newnodes(b5, e5)\n",
    "n6 = newnodes(b6, e6)\n",
    "n7 = newnodes(b7, e7)\n",
    "\n",
    "adjustednodes = [n3.tolist(), n4.tolist(), n5.tolist(), n6.tolist(), n7.tolist()]\n",
    "adjustednodes"
   ]
  },
  {
   "cell_type": "code",
   "execution_count": 53,
   "metadata": {},
   "outputs": [],
   "source": [
    "def newedges(w, e, o):\n",
    "    return w + (0.1)*e*o"
   ]
  },
  {
   "cell_type": "code",
   "execution_count": 57,
   "metadata": {},
   "outputs": [],
   "source": [
    "n13 = newedges(w13, e3,finaloutputs[0])\n",
    "n23 = newedges(w23, e3,finaloutputs[1])\n",
    "n14 = newedges(w14, e4,finaloutputs[0])\n",
    "n24 = newedges(w24, e4,finaloutputs[1])\n",
    "n15 = newedges(w15, e5,finaloutputs[0])\n",
    "n25 = newedges(w25, e5,finaloutputs[1])\n",
    "n36 = newedges(w36, e6,finaloutputs[2])\n",
    "n37 = newedges(w37, e7,finaloutputs[2])\n",
    "n46 = newedges(w46, e6,finaloutputs[3])\n",
    "n47 = newedges(w47, e7,finaloutputs[3])\n",
    "n56 = newedges(w56, e6,finaloutputs[4])\n",
    "n57 = newedges(w57, e7,finaloutputs[4])\n",
    "\n",
    "adjustededges = [n13.tolist(),n23.tolist(),n14.tolist(),n24.tolist(),n15.tolist(),n25.tolist(),n36.tolist(),\n",
    "                 n37.tolist(),n46.tolist(),n47.tolist(),n56.tolist(),n57.tolist()]"
   ]
  },
  {
   "cell_type": "code",
   "execution_count": 58,
   "metadata": {},
   "outputs": [
    {
     "data": {
      "text/plain": [
       "[[0.09899166102586214],\n",
       " [-0.20104572932471435],\n",
       " [0.0003471712086045598],\n",
       " [0.20036004471000907],\n",
       " [0.30119698531433875],\n",
       " [-0.398758629115247],\n",
       " [-0.3923989088995466],\n",
       " [0.1903975269767153],\n",
       " [0.10619388740487848],\n",
       " [-0.10782474988506063],\n",
       " [0.6072821341343246],\n",
       " [-0.20919953407381497]]"
      ]
     },
     "execution_count": 58,
     "metadata": {},
     "output_type": "execute_result"
    }
   ],
   "source": [
    "adjustededges"
   ]
  },
  {
   "cell_type": "markdown",
   "metadata": {},
   "source": [
    "# We can train with T2 by simply changing the values at the beginning of this. This algorithm can also be generalized by adding in random weights"
   ]
  },
  {
   "cell_type": "code",
   "execution_count": null,
   "metadata": {},
   "outputs": [],
   "source": []
  }
 ],
 "metadata": {
  "kernelspec": {
   "display_name": "Python 3",
   "language": "python",
   "name": "python3"
  },
  "language_info": {
   "codemirror_mode": {
    "name": "ipython",
    "version": 3
   },
   "file_extension": ".py",
   "mimetype": "text/x-python",
   "name": "python",
   "nbconvert_exporter": "python",
   "pygments_lexer": "ipython3",
   "version": "3.8.3"
  }
 },
 "nbformat": 4,
 "nbformat_minor": 4
}

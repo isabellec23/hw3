{
 "cells": [
  {
   "cell_type": "markdown",
   "metadata": {},
   "source": [
    "# Question 2"
   ]
  },
  {
   "cell_type": "markdown",
   "metadata": {},
   "source": [
    "**Import Training Data**"
   ]
  },
  {
   "cell_type": "code",
   "execution_count": 1,
   "metadata": {},
   "outputs": [],
   "source": [
    "import pandas as pd\n",
    "df = pd.read_csv('DogsVsCatsTrainSet.csv')\n",
    "df2 = pd.read_csv('adadata.csv', header = None)\n",
    "df3 = pd.read_csv('adatestdata.csv', header = None)"
   ]
  },
  {
   "cell_type": "code",
   "execution_count": 2,
   "metadata": {},
   "outputs": [
    {
     "data": {
      "text/html": [
       "<div>\n",
       "<style scoped>\n",
       "    .dataframe tbody tr th:only-of-type {\n",
       "        vertical-align: middle;\n",
       "    }\n",
       "\n",
       "    .dataframe tbody tr th {\n",
       "        vertical-align: top;\n",
       "    }\n",
       "\n",
       "    .dataframe thead th {\n",
       "        text-align: right;\n",
       "    }\n",
       "</style>\n",
       "<table border=\"1\" class=\"dataframe\">\n",
       "  <thead>\n",
       "    <tr style=\"text-align: right;\">\n",
       "      <th></th>\n",
       "      <th>0</th>\n",
       "      <th>1</th>\n",
       "      <th>2</th>\n",
       "      <th>3</th>\n",
       "      <th>4</th>\n",
       "      <th>5</th>\n",
       "      <th>6</th>\n",
       "      <th>7</th>\n",
       "      <th>8</th>\n",
       "      <th>9</th>\n",
       "      <th>...</th>\n",
       "      <th>55</th>\n",
       "      <th>56</th>\n",
       "      <th>57</th>\n",
       "      <th>58</th>\n",
       "      <th>59</th>\n",
       "      <th>60</th>\n",
       "      <th>61</th>\n",
       "      <th>62</th>\n",
       "      <th>63</th>\n",
       "      <th>64</th>\n",
       "    </tr>\n",
       "  </thead>\n",
       "  <tbody>\n",
       "    <tr>\n",
       "      <th>0</th>\n",
       "      <td>-1</td>\n",
       "      <td>0.095610</td>\n",
       "      <td>0.000000</td>\n",
       "      <td>0.0</td>\n",
       "      <td>0.0</td>\n",
       "      <td>0.000000</td>\n",
       "      <td>0.000000</td>\n",
       "      <td>0.0</td>\n",
       "      <td>0.0</td>\n",
       "      <td>0.0</td>\n",
       "      <td>...</td>\n",
       "      <td>0.000000</td>\n",
       "      <td>0.0</td>\n",
       "      <td>0.051888</td>\n",
       "      <td>0.151667</td>\n",
       "      <td>0.000074</td>\n",
       "      <td>0.000000</td>\n",
       "      <td>0.000000</td>\n",
       "      <td>0.070813</td>\n",
       "      <td>0.212561</td>\n",
       "      <td>0.000000</td>\n",
       "    </tr>\n",
       "    <tr>\n",
       "      <th>1</th>\n",
       "      <td>-1</td>\n",
       "      <td>0.309445</td>\n",
       "      <td>0.069344</td>\n",
       "      <td>0.0</td>\n",
       "      <td>0.0</td>\n",
       "      <td>0.000782</td>\n",
       "      <td>0.017169</td>\n",
       "      <td>0.0</td>\n",
       "      <td>0.0</td>\n",
       "      <td>0.0</td>\n",
       "      <td>...</td>\n",
       "      <td>0.000000</td>\n",
       "      <td>0.0</td>\n",
       "      <td>0.000000</td>\n",
       "      <td>0.000004</td>\n",
       "      <td>0.005912</td>\n",
       "      <td>0.000207</td>\n",
       "      <td>0.000000</td>\n",
       "      <td>0.000000</td>\n",
       "      <td>0.002629</td>\n",
       "      <td>0.000483</td>\n",
       "    </tr>\n",
       "    <tr>\n",
       "      <th>2</th>\n",
       "      <td>-1</td>\n",
       "      <td>0.174749</td>\n",
       "      <td>0.024496</td>\n",
       "      <td>0.0</td>\n",
       "      <td>0.0</td>\n",
       "      <td>0.000168</td>\n",
       "      <td>0.012561</td>\n",
       "      <td>0.0</td>\n",
       "      <td>0.0</td>\n",
       "      <td>0.0</td>\n",
       "      <td>...</td>\n",
       "      <td>0.000000</td>\n",
       "      <td>0.0</td>\n",
       "      <td>0.000742</td>\n",
       "      <td>0.003819</td>\n",
       "      <td>0.017215</td>\n",
       "      <td>0.000000</td>\n",
       "      <td>0.003065</td>\n",
       "      <td>0.002592</td>\n",
       "      <td>0.036018</td>\n",
       "      <td>0.032757</td>\n",
       "    </tr>\n",
       "    <tr>\n",
       "      <th>3</th>\n",
       "      <td>-1</td>\n",
       "      <td>0.008506</td>\n",
       "      <td>0.000008</td>\n",
       "      <td>0.0</td>\n",
       "      <td>0.0</td>\n",
       "      <td>0.000000</td>\n",
       "      <td>0.000000</td>\n",
       "      <td>0.0</td>\n",
       "      <td>0.0</td>\n",
       "      <td>0.0</td>\n",
       "      <td>...</td>\n",
       "      <td>0.000255</td>\n",
       "      <td>0.0</td>\n",
       "      <td>0.000000</td>\n",
       "      <td>0.051601</td>\n",
       "      <td>0.105126</td>\n",
       "      <td>0.000367</td>\n",
       "      <td>0.000000</td>\n",
       "      <td>0.000000</td>\n",
       "      <td>0.050700</td>\n",
       "      <td>0.385304</td>\n",
       "    </tr>\n",
       "    <tr>\n",
       "      <th>4</th>\n",
       "      <td>-1</td>\n",
       "      <td>0.272272</td>\n",
       "      <td>0.002819</td>\n",
       "      <td>0.0</td>\n",
       "      <td>0.0</td>\n",
       "      <td>0.000445</td>\n",
       "      <td>0.002427</td>\n",
       "      <td>0.0</td>\n",
       "      <td>0.0</td>\n",
       "      <td>0.0</td>\n",
       "      <td>...</td>\n",
       "      <td>0.000000</td>\n",
       "      <td>0.0</td>\n",
       "      <td>0.000000</td>\n",
       "      <td>0.000615</td>\n",
       "      <td>0.008780</td>\n",
       "      <td>0.000542</td>\n",
       "      <td>0.000000</td>\n",
       "      <td>0.000000</td>\n",
       "      <td>0.011349</td>\n",
       "      <td>0.155869</td>\n",
       "    </tr>\n",
       "    <tr>\n",
       "      <th>...</th>\n",
       "      <td>...</td>\n",
       "      <td>...</td>\n",
       "      <td>...</td>\n",
       "      <td>...</td>\n",
       "      <td>...</td>\n",
       "      <td>...</td>\n",
       "      <td>...</td>\n",
       "      <td>...</td>\n",
       "      <td>...</td>\n",
       "      <td>...</td>\n",
       "      <td>...</td>\n",
       "      <td>...</td>\n",
       "      <td>...</td>\n",
       "      <td>...</td>\n",
       "      <td>...</td>\n",
       "      <td>...</td>\n",
       "      <td>...</td>\n",
       "      <td>...</td>\n",
       "      <td>...</td>\n",
       "      <td>...</td>\n",
       "      <td>...</td>\n",
       "    </tr>\n",
       "    <tr>\n",
       "      <th>12495</th>\n",
       "      <td>1</td>\n",
       "      <td>0.337673</td>\n",
       "      <td>0.000000</td>\n",
       "      <td>0.0</td>\n",
       "      <td>0.0</td>\n",
       "      <td>0.000008</td>\n",
       "      <td>0.000000</td>\n",
       "      <td>0.0</td>\n",
       "      <td>0.0</td>\n",
       "      <td>0.0</td>\n",
       "      <td>...</td>\n",
       "      <td>0.000000</td>\n",
       "      <td>0.0</td>\n",
       "      <td>0.000000</td>\n",
       "      <td>0.000172</td>\n",
       "      <td>0.061484</td>\n",
       "      <td>0.000000</td>\n",
       "      <td>0.000000</td>\n",
       "      <td>0.000000</td>\n",
       "      <td>0.444640</td>\n",
       "      <td>0.004353</td>\n",
       "    </tr>\n",
       "    <tr>\n",
       "      <th>12496</th>\n",
       "      <td>1</td>\n",
       "      <td>0.333420</td>\n",
       "      <td>0.001408</td>\n",
       "      <td>0.0</td>\n",
       "      <td>0.0</td>\n",
       "      <td>0.003718</td>\n",
       "      <td>0.005230</td>\n",
       "      <td>0.0</td>\n",
       "      <td>0.0</td>\n",
       "      <td>0.0</td>\n",
       "      <td>...</td>\n",
       "      <td>0.000000</td>\n",
       "      <td>0.0</td>\n",
       "      <td>0.000000</td>\n",
       "      <td>0.000000</td>\n",
       "      <td>0.001580</td>\n",
       "      <td>0.000000</td>\n",
       "      <td>0.000000</td>\n",
       "      <td>0.000000</td>\n",
       "      <td>0.003347</td>\n",
       "      <td>0.002202</td>\n",
       "    </tr>\n",
       "    <tr>\n",
       "      <th>12497</th>\n",
       "      <td>1</td>\n",
       "      <td>0.216397</td>\n",
       "      <td>0.000028</td>\n",
       "      <td>0.0</td>\n",
       "      <td>0.0</td>\n",
       "      <td>0.000251</td>\n",
       "      <td>0.000012</td>\n",
       "      <td>0.0</td>\n",
       "      <td>0.0</td>\n",
       "      <td>0.0</td>\n",
       "      <td>...</td>\n",
       "      <td>0.000000</td>\n",
       "      <td>0.0</td>\n",
       "      <td>0.000000</td>\n",
       "      <td>0.047540</td>\n",
       "      <td>0.039314</td>\n",
       "      <td>0.000000</td>\n",
       "      <td>0.000000</td>\n",
       "      <td>0.000112</td>\n",
       "      <td>0.025386</td>\n",
       "      <td>0.011374</td>\n",
       "    </tr>\n",
       "    <tr>\n",
       "      <th>12498</th>\n",
       "      <td>1</td>\n",
       "      <td>0.056453</td>\n",
       "      <td>0.001229</td>\n",
       "      <td>0.0</td>\n",
       "      <td>0.0</td>\n",
       "      <td>0.004674</td>\n",
       "      <td>0.000228</td>\n",
       "      <td>0.0</td>\n",
       "      <td>0.0</td>\n",
       "      <td>0.0</td>\n",
       "      <td>...</td>\n",
       "      <td>0.000000</td>\n",
       "      <td>0.0</td>\n",
       "      <td>0.000000</td>\n",
       "      <td>0.000144</td>\n",
       "      <td>0.033101</td>\n",
       "      <td>0.000319</td>\n",
       "      <td>0.000000</td>\n",
       "      <td>0.000012</td>\n",
       "      <td>0.027791</td>\n",
       "      <td>0.030470</td>\n",
       "    </tr>\n",
       "    <tr>\n",
       "      <th>12499</th>\n",
       "      <td>1</td>\n",
       "      <td>0.176908</td>\n",
       "      <td>0.001748</td>\n",
       "      <td>0.0</td>\n",
       "      <td>0.0</td>\n",
       "      <td>0.002296</td>\n",
       "      <td>0.004228</td>\n",
       "      <td>0.0</td>\n",
       "      <td>0.0</td>\n",
       "      <td>0.0</td>\n",
       "      <td>...</td>\n",
       "      <td>0.000000</td>\n",
       "      <td>0.0</td>\n",
       "      <td>0.000000</td>\n",
       "      <td>0.000000</td>\n",
       "      <td>0.007204</td>\n",
       "      <td>0.001368</td>\n",
       "      <td>0.000000</td>\n",
       "      <td>0.000000</td>\n",
       "      <td>0.014220</td>\n",
       "      <td>0.446145</td>\n",
       "    </tr>\n",
       "  </tbody>\n",
       "</table>\n",
       "<p>12500 rows × 65 columns</p>\n",
       "</div>"
      ],
      "text/plain": [
       "       0         1         2    3    4         5         6    7    8    9   \\\n",
       "0      -1  0.095610  0.000000  0.0  0.0  0.000000  0.000000  0.0  0.0  0.0   \n",
       "1      -1  0.309445  0.069344  0.0  0.0  0.000782  0.017169  0.0  0.0  0.0   \n",
       "2      -1  0.174749  0.024496  0.0  0.0  0.000168  0.012561  0.0  0.0  0.0   \n",
       "3      -1  0.008506  0.000008  0.0  0.0  0.000000  0.000000  0.0  0.0  0.0   \n",
       "4      -1  0.272272  0.002819  0.0  0.0  0.000445  0.002427  0.0  0.0  0.0   \n",
       "...    ..       ...       ...  ...  ...       ...       ...  ...  ...  ...   \n",
       "12495   1  0.337673  0.000000  0.0  0.0  0.000008  0.000000  0.0  0.0  0.0   \n",
       "12496   1  0.333420  0.001408  0.0  0.0  0.003718  0.005230  0.0  0.0  0.0   \n",
       "12497   1  0.216397  0.000028  0.0  0.0  0.000251  0.000012  0.0  0.0  0.0   \n",
       "12498   1  0.056453  0.001229  0.0  0.0  0.004674  0.000228  0.0  0.0  0.0   \n",
       "12499   1  0.176908  0.001748  0.0  0.0  0.002296  0.004228  0.0  0.0  0.0   \n",
       "\n",
       "       ...        55   56        57        58        59        60        61  \\\n",
       "0      ...  0.000000  0.0  0.051888  0.151667  0.000074  0.000000  0.000000   \n",
       "1      ...  0.000000  0.0  0.000000  0.000004  0.005912  0.000207  0.000000   \n",
       "2      ...  0.000000  0.0  0.000742  0.003819  0.017215  0.000000  0.003065   \n",
       "3      ...  0.000255  0.0  0.000000  0.051601  0.105126  0.000367  0.000000   \n",
       "4      ...  0.000000  0.0  0.000000  0.000615  0.008780  0.000542  0.000000   \n",
       "...    ...       ...  ...       ...       ...       ...       ...       ...   \n",
       "12495  ...  0.000000  0.0  0.000000  0.000172  0.061484  0.000000  0.000000   \n",
       "12496  ...  0.000000  0.0  0.000000  0.000000  0.001580  0.000000  0.000000   \n",
       "12497  ...  0.000000  0.0  0.000000  0.047540  0.039314  0.000000  0.000000   \n",
       "12498  ...  0.000000  0.0  0.000000  0.000144  0.033101  0.000319  0.000000   \n",
       "12499  ...  0.000000  0.0  0.000000  0.000000  0.007204  0.001368  0.000000   \n",
       "\n",
       "             62        63        64  \n",
       "0      0.070813  0.212561  0.000000  \n",
       "1      0.000000  0.002629  0.000483  \n",
       "2      0.002592  0.036018  0.032757  \n",
       "3      0.000000  0.050700  0.385304  \n",
       "4      0.000000  0.011349  0.155869  \n",
       "...         ...       ...       ...  \n",
       "12495  0.000000  0.444640  0.004353  \n",
       "12496  0.000000  0.003347  0.002202  \n",
       "12497  0.000112  0.025386  0.011374  \n",
       "12498  0.000012  0.027791  0.030470  \n",
       "12499  0.000000  0.014220  0.446145  \n",
       "\n",
       "[12500 rows x 65 columns]"
      ]
     },
     "execution_count": 2,
     "metadata": {},
     "output_type": "execute_result"
    }
   ],
   "source": [
    "df3"
   ]
  },
  {
   "cell_type": "code",
   "execution_count": 3,
   "metadata": {},
   "outputs": [],
   "source": [
    "df = df.sample(frac = 1)\n",
    "train1 = df.iloc[:11250,:]\n",
    "test1 = df.iloc[11250:,:]"
   ]
  },
  {
   "cell_type": "markdown",
   "metadata": {},
   "source": [
    "tfile = open('train1.txt', 'a')\n",
    "tfile.write(train1.to_string())\n",
    "tfile.close()\n",
    "tfile = open('test1.txt', 'a')\n",
    "tfile.write(test1.to_string())\n",
    "tfile.close()"
   ]
  },
  {
   "cell_type": "code",
   "execution_count": 4,
   "metadata": {},
   "outputs": [],
   "source": [
    "df = df.sample(frac = 1)\n",
    "train2 = df.iloc[:11250,:]\n",
    "test2 = df.iloc[11250:,:]"
   ]
  },
  {
   "cell_type": "markdown",
   "metadata": {},
   "source": [
    "tfile = open('train2.txt', 'a')\n",
    "tfile.write(train2.to_string())\n",
    "tfile.close()\n",
    "tfile = open('test2.txt', 'a')\n",
    "tfile.write(test2.to_string())\n",
    "tfile.close()"
   ]
  },
  {
   "cell_type": "code",
   "execution_count": 5,
   "metadata": {},
   "outputs": [],
   "source": [
    "df = df.sample(frac = 1)\n",
    "train3 = df.iloc[:11250,:]\n",
    "test3 = df.iloc[11250:,:]"
   ]
  },
  {
   "cell_type": "markdown",
   "metadata": {},
   "source": [
    "tfile = open('train3.txt', 'a')\n",
    "tfile.write(train3.to_string())\n",
    "tfile.close()\n",
    "tfile = open('test3.txt', 'a')\n",
    "tfile.write(test3.to_string())\n",
    "tfile.close()"
   ]
  },
  {
   "cell_type": "code",
   "execution_count": 6,
   "metadata": {},
   "outputs": [],
   "source": [
    "df = df.sample(frac = 1)\n",
    "train4 = df.iloc[:11250,:]\n",
    "test4 = df.iloc[11250:,:]"
   ]
  },
  {
   "cell_type": "markdown",
   "metadata": {},
   "source": [
    "tfile = open('train4.txt', 'a')\n",
    "tfile.write(train4.to_string())\n",
    "tfile.close()\n",
    "tfile = open('test4.txt', 'a')\n",
    "tfile.write(test4.to_string())\n",
    "tfile.close()"
   ]
  },
  {
   "cell_type": "code",
   "execution_count": 7,
   "metadata": {},
   "outputs": [],
   "source": [
    "df = df.sample(frac = 1)\n",
    "train5 = df.iloc[:11250,:]\n",
    "test5 = df.iloc[11250:,:]"
   ]
  },
  {
   "cell_type": "markdown",
   "metadata": {},
   "source": [
    "tfile = open('train5.txt', 'a')\n",
    "tfile.write(train5.to_string())\n",
    "tfile.close()\n",
    "tfile = open('test5.txt', 'a')\n",
    "tfile.write(test5.to_string())\n",
    "tfile.close()"
   ]
  },
  {
   "cell_type": "code",
   "execution_count": 8,
   "metadata": {},
   "outputs": [],
   "source": [
    "df = df.sample(frac = 1)\n",
    "train6 = df.iloc[:11250,:]\n",
    "test6 = df.iloc[11250:,:]"
   ]
  },
  {
   "cell_type": "markdown",
   "metadata": {},
   "source": [
    "tfile = open('train6.txt', 'a')\n",
    "tfile.write(train6.to_string())\n",
    "tfile.close()\n",
    "tfile = open('test6.txt', 'a')\n",
    "tfile.write(test6.to_string())\n",
    "tfile.close()"
   ]
  },
  {
   "cell_type": "code",
   "execution_count": 9,
   "metadata": {},
   "outputs": [],
   "source": [
    "df = df.sample(frac = 1)\n",
    "train7 = df.iloc[:11250,:]\n",
    "test7 = df.iloc[11250:,:]"
   ]
  },
  {
   "cell_type": "markdown",
   "metadata": {},
   "source": [
    "tfile = open('train7.txt', 'a')\n",
    "tfile.write(train7.to_string())\n",
    "tfile.close()\n",
    "tfile = open('test7.txt', 'a')\n",
    "tfile.write(test7.to_string())\n",
    "tfile.close()"
   ]
  },
  {
   "cell_type": "code",
   "execution_count": 10,
   "metadata": {
    "scrolled": true
   },
   "outputs": [],
   "source": [
    "df = df.sample(frac = 1)\n",
    "train8 = df.iloc[:11250,:]\n",
    "test8 = df.iloc[11250:,:]"
   ]
  },
  {
   "cell_type": "markdown",
   "metadata": {},
   "source": [
    "tfile = open('train8.txt', 'a')\n",
    "tfile.write(train8.to_string())\n",
    "tfile.close()\n",
    "tfile = open('test8.txt', 'a')\n",
    "tfile.write(test8.to_string())\n",
    "tfile.close()"
   ]
  },
  {
   "cell_type": "code",
   "execution_count": 11,
   "metadata": {},
   "outputs": [],
   "source": [
    "df = df.sample(frac = 1)\n",
    "train9 = df.iloc[:11250,:]\n",
    "test9 = df.iloc[11250:,:]"
   ]
  },
  {
   "cell_type": "markdown",
   "metadata": {},
   "source": [
    "tfile = open('train9.txt', 'a')\n",
    "tfile.write(train9.to_string())\n",
    "tfile.close()\n",
    "tfile = open('test9.txt', 'a')\n",
    "tfile.write(test9.to_string())\n",
    "tfile.close()"
   ]
  },
  {
   "cell_type": "code",
   "execution_count": 12,
   "metadata": {},
   "outputs": [],
   "source": [
    "df = df.sample(frac = 1)\n",
    "train10 = df.iloc[:11250,:]\n",
    "test10 = df.iloc[11250:,:]"
   ]
  },
  {
   "cell_type": "markdown",
   "metadata": {},
   "source": [
    "tfile = open('train10.txt', 'a')\n",
    "tfile.write(train10.to_string())\n",
    "tfile.close()\n",
    "tfile = open('test10.txt', 'a')\n",
    "tfile.write(test10.to_string())\n",
    "tfile.close()"
   ]
  },
  {
   "cell_type": "code",
   "execution_count": 13,
   "metadata": {},
   "outputs": [],
   "source": [
    "import numpy as np\n",
    "from sklearn import svm\n",
    "import pandas as pd"
   ]
  },
  {
   "cell_type": "code",
   "execution_count": 14,
   "metadata": {},
   "outputs": [],
   "source": [
    "y_train = df2.iloc[:,:1]\n",
    "X_train = df2.iloc[:,1:]\n",
    "y_test = df3.iloc[:,:1]\n",
    "X_test = df3.iloc[:,1:]"
   ]
  },
  {
   "cell_type": "code",
   "execution_count": 15,
   "metadata": {},
   "outputs": [],
   "source": [
    "from sklearn.ensemble import AdaBoostClassifier\n",
    "\n",
    "node = AdaBoostClassifier(base_estimator = svm.SVC(probability = True, kernel = 'linear', C = 1.0, gamma = 'auto'), n_estimators = 10, learning_rate = 1, algorithm = 'SAMME')"
   ]
  },
  {
   "cell_type": "code",
   "execution_count": null,
   "metadata": {},
   "outputs": [],
   "source": [
    "model = node.fit(X_train, y_train.values.ravel())"
   ]
  },
  {
   "cell_type": "code",
   "execution_count": null,
   "metadata": {},
   "outputs": [],
   "source": [
    "node.score(X_test, y_test)"
   ]
  },
  {
   "cell_type": "markdown",
   "metadata": {},
   "source": [
    "**Change to 20 and run again to get numbers**"
   ]
  },
  {
   "cell_type": "code",
   "execution_count": null,
   "metadata": {},
   "outputs": [],
   "source": []
  }
 ],
 "metadata": {
  "kernelspec": {
   "display_name": "Python 3",
   "language": "python",
   "name": "python3"
  },
  "language_info": {
   "codemirror_mode": {
    "name": "ipython",
    "version": 3
   },
   "file_extension": ".py",
   "mimetype": "text/x-python",
   "name": "python",
   "nbconvert_exporter": "python",
   "pygments_lexer": "ipython3",
   "version": "3.8.3"
  }
 },
 "nbformat": 4,
 "nbformat_minor": 4
}
